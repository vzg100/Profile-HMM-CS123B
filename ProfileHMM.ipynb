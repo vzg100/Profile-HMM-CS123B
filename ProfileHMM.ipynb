{
 "cells": [
  {
   "cell_type": "code",
   "execution_count": 1,
   "metadata": {},
   "outputs": [
    {
     "name": "stdout",
     "output_type": "stream",
     "text": [
      "['EI', 'IE', 'N'] ['C', 'A', 'G', 'T', 'N', 'D', 'R', 'S']\n"
     ]
    },
    {
     "data": {
      "text/plain": [
       "('N', -36.415347866411324)"
      ]
     },
     "execution_count": 1,
     "metadata": {},
     "output_type": "execute_result"
    }
   ],
   "source": [
    "from random import choice\n",
    "from random import randint \n",
    "from math import log10\n",
    "def fasta_reader(file):\n",
    "    return [line.strip(\"\\n\").split(\",\") for line in open(file)]\n",
    "#generate a random character given weights \n",
    "def select_char(probabilities:dict, precision: int = 10000):\n",
    "    s = \"\"\n",
    "    for i in probabilities.keys():\n",
    "        s+=i*int(probabilities[i]*precision)\n",
    "    return choice(s)\n",
    "\n",
    "class HMM:\n",
    "    def __init__(self):\n",
    "        self.states = []\n",
    "        self.emissions = []\n",
    "        self.data_table = {}\n",
    "        self.columns = [] #list of dicts each list position is a \n",
    "    def load_data(self, file, state_slice=0, seq_slice=2):\n",
    "        for data_point in fasta_reader(file):\n",
    "            state = data_point[state_slice]\n",
    "            seq = data_point[seq_slice].strip(\" \")\n",
    "            if state not in self.states:\n",
    "                self.states.append(state)\n",
    "            for i in seq:\n",
    "                if i not in self.emissions and i != \" \":\n",
    "                    self.emissions.append(i)\n",
    "            self.data_table[seq] = state \n",
    "    def build_model(self):\n",
    "        self.columns = {z:[{j:1 for j in self.emissions} for i in range(len(list(self.data_table.keys())[0]))] for z in self.states}\n",
    "        self.prob_columns = {z:[{j:1 for j in self.emissions} for i in range(len(list(self.data_table.keys())[0]))] for z in self.states}\n",
    "        for z in self.columns.keys(): # for each state \n",
    "            for j in range(len(list(self.data_table.keys())[0])): # for each position in the list of columns \n",
    "                for i in self.data_table.keys(): #check to make sure the sequence being used belongs to the right state\n",
    "                    if self.data_table[i] == z:\n",
    "                        char = i[j]\n",
    "                        self.columns[z][j][char] = self.columns[z][j][char] + 1   \n",
    "            for j in range(len(list(self.data_table.keys())[0])):\n",
    "                counter = 0\n",
    "                for i in self.columns[z][j].keys():\n",
    "                    counter+=self.columns[z][j][i]\n",
    "                for i in self.prob_columns[z][j].keys():\n",
    "                    self.prob_columns[z][j][i] = self.columns[z][j][i]/counter\n",
    "                    \n",
    "    def viterbi_classification(self, seq, logodd=1, verbose=0):\n",
    "        state_seq = []\n",
    "        prob = {i:1 for i in self.states}\n",
    "        if logodd == 0:\n",
    "            def ld(x, y):\n",
    "                return x*y\n",
    "        else:\n",
    "            def ld(x, y):\n",
    "                if x == 1:\n",
    "                    return log10(y)\n",
    "                else:\n",
    "                    return x+log10(y)\n",
    "        for i in range(len(seq)):\n",
    "            for j in self.prob_columns.keys():\n",
    "                prob[j] = ld(prob[j], self.prob_columns[j][i][seq[i]])\n",
    "        highest = -100000000\n",
    "        state = \"\"\n",
    "        if verbose !=0:\n",
    "            print(prob)\n",
    "        for i in prob.keys():\n",
    "            if prob[i] > highest:\n",
    "                highest = prob[i]\n",
    "                state = i\n",
    "        return state, highest\n",
    "      \n",
    "    def generate_sequence(self, state=\"random\"):\n",
    "        if state == \"random\":\n",
    "            state = choice(self.states)\n",
    "        seq = \"\"\n",
    "        for i in range(len(self.prob_columns[state])):\n",
    "            seq+=select_char(self.prob_columns[state][i])\n",
    "        return seq, state\n",
    "            \n",
    "x = HMM()\n",
    "x.load_data(\"splice.data.txt\")\n",
    "x.build_model()\n",
    "x.prob_columns\n",
    "x.viterbi_classification(\"AGACCCGCCGGGAGGCGGAGGACCTGCAGGGTGAGCCCCACCGCCCCTCCGTGCCCCCGC\")\n",
    "x.generate_sequence()\n",
    "\n",
    "print(x.states, x.emissions)\n",
    "x.viterbi_classification(\"CTGGAATTACCAGCTATTCCTCTTATGACTAGGTCTTTACCACCGCGCGGCTCTTCTATT\") #expected state N"
   ]
  },
  {
   "cell_type": "code",
   "execution_count": 2,
   "metadata": {},
   "outputs": [
    {
     "name": "stdout",
     "output_type": "stream",
     "text": [
      "Self Test\n",
      "-- EI --\n",
      "Accuracy:  0.975504799735187\n",
      "Specificity 0.9754549301735083\n",
      "Sensitivty 0.9455081001472754\n",
      "\n",
      "\n",
      "-- IE --\n",
      "Accuracy:  0.9774685222001326\n",
      "Specificity 0.9767638360794254\n",
      "Sensitivty 0.9494047619047619\n",
      "\n",
      "\n",
      "-- N --\n",
      "Accuracy:  0.9513288504642972\n",
      "Specificity 0.9761737911702874\n",
      "Sensitivty 0.9540507859733979\n",
      "\n",
      "\n"
     ]
    },
    {
     "data": {
      "text/plain": [
       "{'EI': {'False Negative': 37,\n",
       "  'False Positive': 58,\n",
       "  'True Negative': 2305,\n",
       "  'True Positive': 642},\n",
       " 'IE': {'False Negative': 34,\n",
       "  'False Positive': 55,\n",
       "  'True Negative': 2312,\n",
       "  'True Positive': 638},\n",
       " 'N': {'False Negative': 76,\n",
       "  'False Positive': 34,\n",
       "  'True Negative': 1393,\n",
       "  'True Positive': 1578}}"
      ]
     },
     "execution_count": 2,
     "metadata": {},
     "output_type": "execute_result"
    }
   ],
   "source": [
    "def sanity_check(states: list, hmm: HMM, labeled_data: dict, verbose = 0):\n",
    "    answers = {i:{\"True Negative\":0, \"True Positive\":0, \"False Positive\":0, \"False Negative\":0} for i in states}\n",
    "    for i in labeled_data.keys():\n",
    "        results = hmm.viterbi_classification(i)[0]\n",
    "        if results == labeled_data[i]:\n",
    "            for j in answers.keys():\n",
    "                if j == results: \n",
    "                    answers[j][\"True Positive\"] = answers[j][\"True Positive\"]+1\n",
    "                else:\n",
    "                    answers[j][\"True Negative\"] = answers[j][\"True Negative\"]+1\n",
    "        else:\n",
    "            for j in answers.keys():\n",
    "                if j == results: \n",
    "                    answers[j][\"False Positive\"] = answers[j][\"False Positive\"]+1\n",
    "                    answers[labeled_data[i]][\"False Negative\"] = answers[labeled_data[i]][\"False Negative\"]+1\n",
    "                    \n",
    "                else:\n",
    "                    answers[j][\"True Negative\"] = answers[j][\"True Negative\"]+1  \n",
    "    if verbose != 0: \n",
    "        for i in answers.keys():\n",
    "            accuracy = (answers[i][\"True Negative\"]+answers[i][\"True Positive\"])/(answers[i][\"True Negative\"]+answers[i][\"True Positive\"]+answers[i][\"False Negative\"]+answers[i][\"False Negative\"])\n",
    "            spec = answers[i][\"True Negative\"]/(answers[i][\"True Negative\"] + answers[i][\"False Positive\"])\n",
    "            sens = answers[i][\"True Positive\"]/(answers[i][\"True Positive\"] + answers[i][\"False Negative\"])\n",
    "            print(\"--\",i,\"--\")\n",
    "            print(\"Accuracy: \", accuracy)\n",
    "            print(\"Specificity\", spec)\n",
    "            print(\"Sensitivty\", sens)\n",
    "            print(\"\\n\")\n",
    "    return answers\n",
    "print(\"Self Test\")\n",
    "sanity_check(x.states, x, x.data_table, verbose = 1)"
   ]
  },
  {
   "cell_type": "code",
   "execution_count": 6,
   "metadata": {},
   "outputs": [
    {
     "name": "stdout",
     "output_type": "stream",
     "text": [
      "Test on 100000 Points of Randomly Generated Data\n",
      "-- EI --\n",
      "Accuracy:  0.9854005875616193\n",
      "Specificity 0.9843981948815391\n",
      "Sensitivty 0.9780335041505589\n",
      "\n",
      "\n",
      "-- IE --\n",
      "Accuracy:  0.9878726327737619\n",
      "Specificity 0.9884326541452115\n",
      "Sensitivty 0.9814510233918129\n",
      "\n",
      "\n",
      "-- N --\n",
      "Accuracy:  0.9741670595630991\n",
      "Specificity 0.9878251081225191\n",
      "Sensitivty 0.9610935234770259\n",
      "\n",
      "\n"
     ]
    },
    {
     "data": {
      "text/plain": [
       "{'EI': {'False Negative': 733,\n",
       "  'False Positive': 1051,\n",
       "  'True Negative': 66313,\n",
       "  'True Positive': 32636},\n",
       " 'IE': {'False Negative': 609,\n",
       "  'False Positive': 784,\n",
       "  'True Negative': 66993,\n",
       "  'True Positive': 32223},\n",
       " 'N': {'False Negative': 1315,\n",
       "  'False Positive': 822,\n",
       "  'True Negative': 66694,\n",
       "  'True Positive': 32484}}"
      ]
     },
     "execution_count": 6,
     "metadata": {},
     "output_type": "execute_result"
    }
   ],
   "source": [
    "test_data = {}\n",
    "count = 100000\n",
    "for i in range(count):\n",
    "    seq, state = x.generate_sequence()\n",
    "    test_data[seq]=state\n",
    "print(\"Test on\",count,\"Points of Randomly Generated Data\")\n",
    "sanity_check(x.states, x, test_data, verbose = 1)"
   ]
  },
  {
   "cell_type": "code",
   "execution_count": null,
   "metadata": {},
   "outputs": [],
   "source": []
  },
  {
   "cell_type": "code",
   "execution_count": null,
   "metadata": {},
   "outputs": [],
   "source": []
  }
 ],
 "metadata": {
  "kernelspec": {
   "display_name": "Python 3",
   "language": "python",
   "name": "python3"
  },
  "language_info": {
   "codemirror_mode": {
    "name": "ipython",
    "version": 3
   },
   "file_extension": ".py",
   "mimetype": "text/x-python",
   "name": "python",
   "nbconvert_exporter": "python",
   "pygments_lexer": "ipython3",
   "version": "3.6.4"
  }
 },
 "nbformat": 4,
 "nbformat_minor": 2
}
